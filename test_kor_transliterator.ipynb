{
 "cells": [
  {
   "cell_type": "code",
   "execution_count": 7,
   "id": "operational-destruction",
   "metadata": {},
   "outputs": [
    {
     "name": "stderr",
     "output_type": "stream",
     "text": [
      "usage: ipykernel_launcher.py [-h] [--train] [--test] [--test_simple]\n",
      "ipykernel_launcher.py: error: unrecognized arguments: -f /home/subinkim/.local/share/jupyter/runtime/kernel-f704bbf2-9969-4f73-aad4-a6199e0a2d14.json\n"
     ]
    },
    {
     "ename": "SystemExit",
     "evalue": "2",
     "output_type": "error",
     "traceback": [
      "An exception has occurred, use %tb to see the full traceback.\n",
      "\u001b[0;31mSystemExit\u001b[0m\u001b[0;31m:\u001b[0m 2\n"
     ]
    }
   ],
   "source": [
    "from kor_transliterator import Transliterator"
   ]
  },
  {
   "cell_type": "code",
   "execution_count": 2,
   "id": "toxic-permit",
   "metadata": {},
   "outputs": [
    {
     "name": "stdout",
     "output_type": "stream",
     "text": [
      "[에스비에스연예뉴스 | 지나윤 에디터] 그룹 방탄소년단의 세계관을 담은 드라마 유스(유스)가 역할 명을 가상의 이름으로 변경해 촬영을 재개한 것으로 전해졌습니다.오늘(칠일) 한 매체는 드라마 유스 제작사 초록뱀미디어와 방탄소년단 소속사 측이 등장인물 이름을 방탄소년단 멤버 실명이 아닌 가상의 이름으로 변경해 재촬영하기로 협의했다고 보도했습니다.\n"
     ]
    }
   ],
   "source": [
    "ex1 = Transliterator('[SBS연예뉴스 | 지나윤 에디터] 그룹 방탄소년단의 세계관을 담은 드라마 유스(YOUTH)가 역할 명을 가상의 이름으로 변경해 촬영을 재개한 것으로 전해졌습니다.오늘(7일) 한 매체는 드라마 유스 제작사 초록뱀미디어와 방탄소년단 소속사 측이 등장인물 이름을 방탄소년단 멤버 실명이 아닌 가상의 이름으로 변경해 재촬영하기로 협의했다고 보도했습니다.')\n",
    "output = ex1.transliterate()\n",
    "print(output)"
   ]
  },
  {
   "cell_type": "code",
   "execution_count": 3,
   "id": "greek-eligibility",
   "metadata": {},
   "outputs": [
    {
     "name": "stdout",
     "output_type": "stream",
     "text": [
      "내일 오전 최저기온은 칠~십일도이며, 오후 예상 최고기온은 십육도로 예상된다. 초미세먼지와 미세먼지 단계는 보통을 나타내고 있다. 대기 중 습도는 육십~칠십퍼센트로, 낮은 습도를 유지하며, 다소 건조할 것으로 보인다. 풍속 일쩜 이오미터퍼세크로 얼굴에 살짝 느껴질 정도의 바람이 불 것으로 보인다.\n"
     ]
    }
   ],
   "source": [
    "ex2= Transliterator('내일 오전 최저기온은 7~11도이며, 오후 예상 최고기온은 16℃로 예상된다. 초미세먼지와 미세먼지 단계는 보통을 나타내고 있다. 대기 중 습도는 60~70%로, 낮은 습도를 유지하며, 다소 건조할 것으로 보인다. 풍속 1.25m/s로 얼굴에 살짝 느껴질 정도의 바람이 불 것으로 보인다.')\n",
    "output = ex2.transliterate()\n",
    "print(output)"
   ]
  },
  {
   "cell_type": "code",
   "execution_count": 4,
   "id": "contained-blink",
   "metadata": {},
   "outputs": [
    {
     "name": "stdout",
     "output_type": "stream",
     "text": [
      "‘필름 아웃’은 방탄소년단의 일본 앨범 ‘비엔트스, 더 베스트’(비엔트스, 더 베스트)의 수록곡이다. 애절한 발라드곡이다. 막내 정국이 작곡에 참여했다. 한편 방탄소년단은 오는 유월 십육일 일본 앨범 ‘비엔트스, 더 베스트’를 발매한다. 지난 이천일십칠년부터 일본에서 발매한 싱글과 앨범 수록곡 등 총 이십삼곡을 담았다.\n"
     ]
    }
   ],
   "source": [
    "ex3= Transliterator('‘필름 아웃’은 방탄소년단의 일본 앨범 ‘BTS, 더 베스트’(BTS, THE BEST)의 수록곡이다. 애절한 발라드곡이다. 막내 정국이 작곡에 참여했다. 한편 방탄소년단은 오는 6월 16일 일본 앨범 ‘BTS, 더 베스트’를 발매한다. 지난 2017년부터 일본에서 발매한 싱글과 앨범 수록곡 등 총 23곡을 담았다.')\n",
    "output = ex3.transliterate()\n",
    "print(output)"
   ]
  }
 ],
 "metadata": {
  "kernelspec": {
   "display_name": "Python 3",
   "language": "python",
   "name": "python3"
  },
  "language_info": {
   "codemirror_mode": {
    "name": "ipython",
    "version": 3
   },
   "file_extension": ".py",
   "mimetype": "text/x-python",
   "name": "python",
   "nbconvert_exporter": "python",
   "pygments_lexer": "ipython3",
   "version": "3.6.9"
  }
 },
 "nbformat": 4,
 "nbformat_minor": 5
}
